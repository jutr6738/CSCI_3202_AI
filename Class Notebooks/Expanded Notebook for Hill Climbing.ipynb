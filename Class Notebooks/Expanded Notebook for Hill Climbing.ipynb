{
 "cells": [
  {
   "cell_type": "markdown",
   "metadata": {},
   "source": [
    "# CSCI 3202, Spring 2023\n",
    "# Hill Climbing Notebook"
   ]
  },
  {
   "cell_type": "markdown",
   "metadata": {},
   "source": [
    "Before we begin, let's load a few packages that we might find useful."
   ]
  },
  {
   "cell_type": "code",
   "execution_count": 4,
   "metadata": {},
   "outputs": [],
   "source": [
    "import numpy as np\n",
    "import matplotlib.pyplot as plt\n",
    "import scipy.stats as stats"
   ]
  },
  {
   "cell_type": "markdown",
   "metadata": {},
   "source": [
    "<br>\n",
    "\n",
    "<img src=\"http://1.bp.blogspot.com/-mWUxSF7q_JY/Vbd84OcwaSI/AAAAAAAA7No/5iT8gMZBHw8/s1600/seilschaft2---helliventures-joachimhellinger.jpg=\" width=\"300\"/>\n",
    "\n",
    "\n",
    "\n",
    "## Problem 1: Hill-climbing\n",
    "\n",
    "The over-arching goal here is to maximize some objective function.  You can also look at this as minimizing some kind of a loss... and you will!\n",
    "\n",
    "In many applications, the objective function might turn out to be a Gaussian function, such as this one:"
   ]
  },
  {
   "cell_type": "code",
   "execution_count": 5,
   "metadata": {},
   "outputs": [],
   "source": [
    "def gaussian_objective(state):\n",
    "    return stats.norm.pdf(x=state, loc=5, scale=2)"
   ]
  },
  {
   "cell_type": "markdown",
   "metadata": {},
   "source": [
    "Note the this objective function is just taking in some value $\\texttt{state}$ and returning the value of the normal probability density function, centered at $\\texttt{loc} = \\mu = 5$ and with standard deviation $\\texttt{scale} = \\sigma = 2$:\n",
    "$$f(\\texttt{state}) = \\dfrac{1}{\\sqrt{2\\pi}\\sigma} e^{-\\dfrac{(\\texttt{state}-\\mu)^2}{2\\sigma^2}}$$"
   ]
  },
  {
   "cell_type": "markdown",
   "metadata": {},
   "source": [
    "For good measure, let's plot this thing up and see what it looks like."
   ]
  },
  {
   "cell_type": "code",
   "execution_count": 6,
   "metadata": {},
   "outputs": [
    {
     "data": {
      "image/png": "[encoded data removed]",
      "text/plain": [
       "<Figure size 432x288 with 1 Axes>"
      ]
     },
     "metadata": {
      "needs_background": "light"
     },
     "output_type": "display_data"
    }
   ],
   "source": [
    "x = np.arange(-5,15,0.1)\n",
    "f = [gaussian_objective(state) for state in x]\n",
    "\n",
    "plt.plot(x,f)\n",
    "plt.xlabel('State')\n",
    "plt.ylabel('Objective function')\n",
    "plt.show()"
   ]
  },
  {
   "cell_type": "markdown",
   "metadata": {},
   "source": [
    "Neat.\n",
    "\n",
    "<br>\n",
    "\n",
    "The first order of business if we want to maximize some objective function using the **local search** techniques we just learned will be to set up a class structure to make this easier.\n",
    "\n",
    "If we do this in a general enough way for **hill-climbing** (this first part), we will only need to modify a few things to tackle a trickier problem using **simulated annealing**."
   ]
  },
  {
   "cell_type": "markdown",
   "metadata": {
    "tags": []
   },
   "source": [
    "\n",
    "\n",
    "### (1a)  A class structure to solve problems\n",
    "\n",
    "So first, let's define a class to keep track of the `state`.  This is the quantity we want to adjust in order to optimize the objective function.  That sentence indicates the two values we really need to keep track of for a `state`:\n",
    "1. the value of `state`\n",
    "2. the value of the `objective_function` when evaluated at `state`"
   ]
  },
  {
   "cell_type": "code",
   "execution_count": 7,
   "metadata": {},
   "outputs": [],
   "source": [
    "class state:\n",
    "\n",
    "    def __init__(self, node, value):\n",
    "        self.node = node #like x value\n",
    "        self.value = value        #life f(x) values"
   ]
  },
  {
   "cell_type": "markdown",
   "metadata": {},
   "source": [
    "Now we need to define our problem.  This should be entirely self-contained, so that we need to feed the `hill_climb` optimization routine below a fairly generic problem description, and it can solve it, so we can easily feed in different problems.\n",
    "\n",
    "**The goal** with this class structure is to have everything that is **problem-specific** sent into the hill-climbing optimization/local search be self-contained within the `problem` object."
   ]
  },
  {
   "cell_type": "code",
   "execution_count": 8,
   "metadata": {},
   "outputs": [],
   "source": [
    "class problem:\n",
    "    \n",
    "    def __init__(self, initial, objective_function, stepsize):\n",
    "        self.initial_state = initial  \n",
    "        self.current_state = initial\n",
    "        self.objective_function = objective_function\n",
    "        self.stepsize = stepsize\n",
    "        \n",
    "    def moves(self):\n",
    "        '''return all possible moves to make from the current_state'''\n",
    "        all_moves = []\n",
    "        # could move right...\n",
    "        all_moves.append(self.current_state.node + self.stepsize)\n",
    "        # ... or left!\n",
    "        all_moves.append(self.current_state.node - self.stepsize)\n",
    "        return all_moves"
   ]
  },
  {
   "cell_type": "markdown",
   "metadata": {},
   "source": [
    "Finally, we can turn our Hill-climbing pseudocode into real code, that takes only two arguments and returns the `state` that optimizes the `objective_function`.  Note that the return can be done implicitly by manipulating the current state within our `problem`, or we could code it up as an explicit output."
   ]
  },
  {
   "cell_type": "code",
   "execution_count": 10,
   "metadata": {},
   "outputs": [],
   "source": [
    "def hill_climb(problem, n_iter):\n",
    "    \n",
    "    # iterate until we can't do any better\n",
    "    for k in range(n_iter):\n",
    "        #\n",
    "        # Evaluate the two neighbors\n",
    "        nextMove, nextValue = problem.best_move()\n",
    "        #\n",
    "        # if you reach a point at which the \"best\" neighbor is smaller than \n",
    "        # the current value, then stop\n",
    "        if nextValue <= problem.current_state.value:\n",
    "            return problem.current_state\n",
    "        #print(problem.current_state, nextMove)\n",
    "        problem.current_state.node, problem.current_state.value = nextMove, nextValue\n",
    "    print('reached n_iter')\n",
    "    return False\n",
    "\n",
    "class problem_hillclimb(problem):\n",
    "    \n",
    "    def best_move(self):\n",
    "        '''return the best move possible from the current_state'''\n",
    "        # what moves are possible?\n",
    "        all_moves = self.moves()\n",
    "        # what is objective function for each of them?\n",
    "        obj_func = [self.objective_function(move) for move in all_moves]\n",
    "        best = all_moves[max(zip(obj_func, range(len(obj_func))))[1]] #find the x value of the largest \n",
    "        return best, np.max(obj_func) #get max y value "
   ]
  },
  {
   "cell_type": "code",
   "execution_count": 11,
   "metadata": {},
   "outputs": [
    {
     "data": {
      "text/plain": [
       "{'node': 0.0, 'value': 0.00876415024678427}"
      ]
     },
     "execution_count": 11,
     "metadata": {},
     "output_type": "execute_result"
    }
   ],
   "source": [
    "initial_x=state(0.0,gaussian_objective(0))\n",
    "##shows you all the things in that object initial_x\n",
    "initial_x.__dict__ "
   ]
  },
  {
   "cell_type": "code",
   "execution_count": 12,
   "metadata": {},
   "outputs": [
    {
     "data": {
      "text/plain": [
       "{'initial_state': <__main__.state at 0x1d980186a60>,\n",
       " 'current_state': <__main__.state at 0x1d980186a60>,\n",
       " 'objective_function': <function __main__.gaussian_objective(state)>,\n",
       " 'stepsize': 0.05}"
      ]
     },
     "execution_count": 12,
     "metadata": {},
     "output_type": "execute_result"
    }
   ],
   "source": [
    "test=problem(initial_x,gaussian_objective,0.05)\n",
    "test.__dict__"
   ]
  },
  {
   "cell_type": "code",
   "execution_count": 13,
   "metadata": {},
   "outputs": [
    {
     "data": {
      "text/plain": [
       "[0.05, -0.05]"
      ]
     },
     "execution_count": 13,
     "metadata": {},
     "output_type": "execute_result"
    }
   ],
   "source": [
    "all_moves=test.moves()\n",
    "#since stepsize is 0.05 and initial is 0.0 we do 0+0.05 and 0.05\n",
    "all_moves"
   ]
  },
  {
   "cell_type": "code",
   "execution_count": 14,
   "metadata": {},
   "outputs": [
    {
     "data": {
      "text/plain": [
       "[0.009326474396134952, 0.008230584766623635]"
      ]
     },
     "execution_count": 14,
     "metadata": {},
     "output_type": "execute_result"
    }
   ],
   "source": [
    "# Evaluate the function at the chosen moves\n",
    "obj_func=[test.objective_function(move) for move in test.moves()]\n",
    "obj_func"
   ]
  },
  {
   "cell_type": "code",
   "execution_count": 37,
   "metadata": {},
   "outputs": [
    {
     "data": {
      "text/plain": [
       "0.05"
      ]
     },
     "execution_count": 37,
     "metadata": {},
     "output_type": "execute_result"
    }
   ],
   "source": [
    "#creats a list zipping index and y value \n",
    "best = all_moves[max(zip(obj_func, range(len(obj_func))))[1]]\n",
    "#same as all_moves= [list(zip(obj_func,range(2)))]\n",
    "best"
   ]
  },
  {
   "cell_type": "code",
   "execution_count": 39,
   "metadata": {},
   "outputs": [
    {
     "data": {
      "text/plain": [
       "[(0.009326474396134952, 0), (0.008230584766623635, 1)]"
      ]
     },
     "execution_count": 39,
     "metadata": {},
     "output_type": "execute_result"
    }
   ],
   "source": [
    "# Zip is lazy.  It doesn't complete the operation until required\n",
    "# We use a list here to force it to completee\n",
    "\n",
    "#we zip (ie make a tupe of value of x from function and index  )\n",
    "list(zip(obj_func,range(2)))"
   ]
  },
  {
   "cell_type": "code",
   "execution_count": 41,
   "metadata": {},
   "outputs": [
    {
     "data": {
      "text/plain": [
       "(0.009326474396134952, 0)"
      ]
     },
     "execution_count": 41,
     "metadata": {},
     "output_type": "execute_result"
    }
   ],
   "source": [
    "#get biggest since we are maximizing \n",
    "max(zip(obj_func,range(len(obj_func))))"
   ]
  },
  {
   "cell_type": "markdown",
   "metadata": {},
   "source": [
    "\n",
    "\n",
    "### (1b)  Ready to solve!\n",
    "\n",
    "Let's start by creating an `initial_state` for our problem."
   ]
  },
  {
   "cell_type": "code",
   "execution_count": 42,
   "metadata": {},
   "outputs": [
    {
     "name": "stdout",
     "output_type": "stream",
     "text": [
      "{'node': 1.0, 'value': 0.02699548325659403}\n"
     ]
    }
   ],
   "source": [
    "initial_state = state(node=1.0, value=gaussian_objective(1.0))\n",
    "print(initial_state.__dict__)"
   ]
  },
  {
   "cell_type": "markdown",
   "metadata": {},
   "source": [
    "Now we need an instance of our `problem`."
   ]
  },
  {
   "cell_type": "code",
   "execution_count": 43,
   "metadata": {},
   "outputs": [],
   "source": [
    "gaussian_problem = problem_hillclimb(initial=initial_state, objective_function=gaussian_objective, stepsize=0.1)"
   ]
  },
  {
   "cell_type": "markdown",
   "metadata": {},
   "source": [
    "Finally, we can turn out `hill_climb` algorithm loose on this problem."
   ]
  },
  {
   "cell_type": "code",
   "execution_count": 44,
   "metadata": {},
   "outputs": [
    {
     "name": "stdout",
     "output_type": "stream",
     "text": [
      "4.999999999999999 0.19947114020071635\n"
     ]
    }
   ],
   "source": [
    "out = hill_climb(gaussian_problem, n_iter=50)\n",
    "print(out.node, out.value)"
   ]
  },
  {
   "cell_type": "markdown",
   "metadata": {},
   "source": [
    "## A couple extensions\n",
    "\n",
    "That's good and all, but that particular objective function was just a single univariate Gaussian.  It turns out that the real world is tougher than that.  So let's tackle some tougher problems, shall we?\n",
    "\n",
    "\n",
    "\n",
    "### (1c) Minimization\n",
    "\n",
    "First, it might be the case that we want to ***minimize*** an objective function instead of maximizing it.  Modify your hill-climbing codes to tackle the problem of minimization.  Note:  this ought to be do-able by modifying a single line of code from above..."
   ]
  },
  {
   "cell_type": "code",
   "execution_count": null,
   "metadata": {},
   "outputs": [],
   "source": []
  },
  {
   "cell_type": "markdown",
   "metadata": {},
   "source": [
    "Now **define your own** objective function to minimize!  Easy options include concave-up quadratic functions just slapping a $-$ sign into the Gaussian objective function defined above.  Then turn your descent algorithm loose on the minimization problem."
   ]
  },
  {
   "cell_type": "code",
   "execution_count": null,
   "metadata": {},
   "outputs": [],
   "source": []
  },
  {
   "cell_type": "markdown",
   "metadata": {},
   "source": [
    "\n",
    "### (1d)  Random restarts\n",
    "\n",
    "That single Gaussian actually covers many real-world applications of optimization and local search, but many other applications lead to \"bumpier\" objective functions.  Suppose you are trying to fit a model to noisy data, and suppose each of your data points has normally-distributed uncertainty.  Then the objective function you would like to minimize could take the form of the sum of several Gaussian distributions, like so:\n",
    "\n",
    "$$f(\\texttt{state}) = \\dfrac{1}{\\sqrt{2\\pi}\\sigma} \\left(e^{-\\dfrac{(\\texttt{state}-\\mu_0)^2}{2\\sigma^2}} + \n",
    "e^{-\\dfrac{(\\texttt{state}-\\mu_1)^2}{2\\sigma^2}} + \n",
    "e^{-\\dfrac{(\\texttt{state}-\\mu_2)^2}{2\\sigma^2}} + \n",
    "e^{-\\dfrac{(\\texttt{state}-\\mu_3)^2}{2\\sigma^2}} + \n",
    "e^{-\\dfrac{(\\texttt{state}-\\mu_4)^2}{2\\sigma^2}}\\right)$$\n",
    "\n",
    "Here, $\\mu_i$ denotes the data points you have, $\\sigma$ is assumed to be an uncertainty shared by all of them, and $\\texttt{state}$ is your model's output, which you want to fit through those data points.\n",
    "\n",
    "If we let $\\sigma=1$, $\\mu_0 = 0$, $\\mu_1 = 2.1$, $\\mu_2 = 4$, $\\mu_3 = 4$ and $\\mu_4 = 8$, then we end up with the following objective function, `several_gaussian_objective(state)`:"
   ]
  },
  {
   "cell_type": "code",
   "execution_count": 47,
   "metadata": {},
   "outputs": [],
   "source": [
    "#definine the function\n",
    "def several_gaussian_objective(state):\n",
    "    locs = [0,2.1,4,4,8] # centers of a bunch of normal distributions\n",
    "    #locs = [0, 2, 4, 6, 8]\n",
    "    objective_value = 0\n",
    "    # objective function is actually just the sum of a bunch of normal pdfs\n",
    "    for loc in locs:\n",
    "        objective_value += stats.norm.pdf(state, loc=loc, scale=1)\n",
    "    return objective_value"
   ]
  },
  {
   "cell_type": "markdown",
   "metadata": {},
   "source": [
    "Plot up this new objective function as a function of `state`.  What do you notice?  Will our \"vanilla\" hill-climbing routine successfully climb the hill and maximize this objective function for *any* initial state?"
   ]
  },
  {
   "cell_type": "code",
   "execution_count": 48,
   "metadata": {},
   "outputs": [
    {
     "data": {
      "image/png": "[encoded data removed]",
      "text/plain": [
       "<Figure size 432x288 with 1 Axes>"
      ]
     },
     "metadata": {
      "needs_background": "light"
     },
     "output_type": "display_data"
    }
   ],
   "source": [
    "#plotting that function\n",
    "\n",
    "x = np.arange(start=-5, stop=15, step=0.1)\n",
    "fx = [several_gaussian_objective(xk) for xk in x]\n",
    "plt.plot(x, fx, lw=2)\n",
    "plt.xlabel('State')\n",
    "plt.ylabel('Objective function')\n",
    "plt.show()"
   ]
  },
  {
   "cell_type": "markdown",
   "metadata": {},
   "source": [
    "Note that we can check about where the global maximum is fairly easily:"
   ]
  },
  {
   "cell_type": "code",
   "execution_count": 49,
   "metadata": {},
   "outputs": [
    {
     "data": {
      "text/plain": [
       "(0.8764853553213469, 3.7999999999999687)"
      ]
     },
     "execution_count": 49,
     "metadata": {},
     "output_type": "execute_result"
    }
   ],
   "source": [
    "max(zip(fx, x))"
   ]
  },
  {
   "cell_type": "markdown",
   "metadata": {},
   "source": [
    "Let's modify our vanilla hill-climbing solution approach from **(1b)** to include 500 random restarts for the initial state.\n",
    "\n",
    "The following code will draw `n_restarts` random samples from the range $[0, 1)$."
   ]
  },
  {
   "cell_type": "code",
   "execution_count": 50,
   "metadata": {},
   "outputs": [],
   "source": [
    "n_restarts = 500\n",
    "sample = np.random.random(size=n_restarts) #getting a random # "
   ]
  },
  {
   "cell_type": "markdown",
   "metadata": {},
   "source": [
    "Modify that to draw instead from the range $[-2, 10)$.  Use those samples to create an **ensemble** of the values of `state` for which the objective function is maximized.  Plot a histogram of them, and make a conclusion about what the \"best guess\" for the maximal `state` is."
   ]
  },
  {
   "cell_type": "code",
   "execution_count": 53,
   "metadata": {},
   "outputs": [
    {
     "name": "stdout",
     "output_type": "stream",
     "text": [
      "initvals [ 8.69305311 -1.94244748  2.23255546  7.53672425  1.44786817  0.36695517\n",
      " -1.71800929  3.54278191  0.56674777  7.57224325  8.6468348  -0.70776093\n",
      "  0.46156558  7.05860195 -0.83050307  8.90013393  4.49881323  9.37960295\n",
      "  5.60922402  3.87906757  2.12457376  1.24606412  6.18476202  4.4820271\n",
      " -1.01925281 -1.96282074  9.20428017 -0.4241178   7.29249259  6.94440212\n",
      " -1.45329901  2.3315773  -1.66422965  2.5996647   8.59650092 -1.1322011\n",
      "  1.2227792  -0.62167695 -1.81535666  9.27002362  9.0000429   9.78850231\n",
      "  6.53953532  8.04081865  4.15634662  1.92303107  9.74089032  2.90067605\n",
      "  8.37752829  0.61805855  1.26282564  0.54597955 -1.01223082  0.08048224\n",
      "  7.61757177 -0.2868899   7.72014019  4.56477338  1.24816027  3.1311493\n",
      "  4.5635162   4.27688898  9.99620225  8.04151735  4.45823376  1.4726249\n",
      "  1.05537932  1.1512048   9.23188465  1.68096658  5.89423126  1.10367679\n",
      "  1.90579649  2.17870844  1.55926233  7.72412467  4.38009503 -1.34876482\n",
      "  0.02367525  3.63705321  7.58217853 -1.75548606  9.38688042  1.39808364\n",
      "  7.75501205 -1.98818727  1.74264513  1.76667466  9.97257718  4.67202423\n",
      "  3.7144164   7.28162667  3.59820687  0.03758734  3.00175322  9.41469651\n",
      "  7.70544571  4.59867729  6.3048446   0.86424571]\n",
      "max [7.993053106180275, 3.757552523563934, 3.8325554553016143, 8.0367242507225, 3.747868165711801, 3.766955165720299, 3.781990710537419, 3.742781911359395, 3.766747773693809, 7.972243249427455, 8.046834804234747, 3.7922390660783933, 3.761565579790038, 7.958601947911898, 3.7694969315373728, 8.000133929218478, 3.7988132259182703, 7.979602947789024, 3.8092240229592127, 3.779067572093567, 3.824573763952723, 3.7460641159132577, 3.784762024555047, 3.782027095089394, 3.780747188521714, 3.8371792594852425, 8.00428016694124, 3.7758822048440193, 7.992492587151888, 8.044402116510856, 3.7467009866497674, 3.831577302028069, 3.835770349178938, 3.799664698320851, 7.996500918291758, 3.7677989002433168, 3.8227791979144503, 3.7783230483401953, 3.7846433402927504, 7.9700236185469855, 8.000042904338496, 7.988502311433159, 8.039535321043822, 8.040818653679269, 3.7563466168149806, 3.823031073412274, 8.04089031503945, 3.800676049324396, 7.977528285168974, 3.818058550323377, 3.762825644792876, 3.745979549466105, 3.7877691752584073, 3.7804822388132164, 8.017571774260427, 3.8131100986039006, 8.02014018882023, 3.764773376273135, 3.7481602737756354, 3.8311493045863148, 3.7635161962196464, 3.7768889808280917, 7.996202250417092, 8.041517348976914, 3.7582337589843076, 3.7726249005732706, 3.7553793229979977, 3.7512047986132444, 8.031884647695337, 3.7809665758742437, 3.794231255752879, 3.803676787966752, 3.805796494845178, 3.778708438406138, 3.759262334206935, 8.02412467086438, 3.78009502524849, 3.7512351760814835, 3.823675251690116, 3.837053210137607, 7.982178528343789, 3.7445139419010434, 7.986880420242837, 3.798083639985115, 7.9550120526580415, 3.811812732758256, 3.742645133993513, 3.7666746569496463, 7.972577183873632, 3.7720242333395757, 3.8144163997336427, 7.981626667108182, 3.7982068656719923, 3.837587340993171, 3.8017532152858458, 8.014696507691315, 8.005445707419316, 3.7986772902229213, 8.004844595502183, 3.764245706763046]\n"
     ]
    },
    {
     "data": {
      "image/png": "[encoded data removed]",
      "text/plain": [
       "<Figure size 432x288 with 1 Axes>"
      ]
     },
     "metadata": {
      "needs_background": "light"
     },
     "output_type": "display_data"
    }
   ],
   "source": [
    "n_restarts = 100\n",
    "max_found = []\n",
    "range_init = [-2, 10]\n",
    "\n",
    "#generate 100 random values\n",
    "initial_values = np.random.random(size=n_restarts)*np.diff(range_init)+range_init[0]\n",
    "#initial_values = np.random.uniform(-2,10,size=n_restarts)\n",
    "print(\"initvals\", initial_values)\n",
    "\n",
    "#now evaluate them aka step left right and get max and store in max_found\n",
    "for n in range(n_restarts):\n",
    "    initial_state = state(node=initial_values[n], value=several_gaussian_objective(initial_values[n]))\n",
    "    gaussian_problem = problem_hillclimb(initial=initial_state, objective_function=several_gaussian_objective, stepsize=0.1)\n",
    "    out = hill_climb(gaussian_problem, n_iter=500)\n",
    "    max_found.append(out.node)\n",
    "    \n",
    "print(\"max\", max_found) #maxes are in here\n",
    "plt.hist(max_found)\n",
    "plt.show()"
   ]
  },
  {
   "cell_type": "code",
   "execution_count": null,
   "metadata": {},
   "outputs": [],
   "source": []
  },
  {
   "cell_type": "code",
   "execution_count": null,
   "metadata": {},
   "outputs": [],
   "source": []
  },
  {
   "cell_type": "code",
   "execution_count": null,
   "metadata": {},
   "outputs": [],
   "source": []
  }
 ],
 "metadata": {
  "kernelspec": {
   "display_name": "Python 3 (ipykernel)",
   "language": "python",
   "name": "python3"
  },
  "language_info": {
   "codemirror_mode": {
    "name": "ipython",
    "version": 3
   },
   "file_extension": ".py",
   "mimetype": "text/x-python",
   "name": "python",
   "nbconvert_exporter": "python",
   "pygments_lexer": "ipython3",
   "version": "3.9.7"
  }
 },
 "nbformat": 4,
 "nbformat_minor": 4
}
