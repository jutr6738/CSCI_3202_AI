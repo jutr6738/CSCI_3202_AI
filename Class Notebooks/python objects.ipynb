{
 "cells": [
  {
   "cell_type": "markdown",
   "metadata": {},
   "source": [
    "# Python objects\n",
    "\n",
    "Let's start where the course tutorial leftoff. "
   ]
  },
  {
   "cell_type": "code",
   "execution_count": 1,
   "metadata": {},
   "outputs": [
    {
     "name": "stdout",
     "output_type": "stream",
     "text": [
      "Yogi\n"
     ]
    }
   ],
   "source": [
    "class Bear:\n",
    "    def __init__(self, name, kind, hibernationlength):\n",
    "        self.firstname = name\n",
    "        self.kind = kind\n",
    "        self.hibernationlength = hibernationlength\n",
    "\n",
    "    def printname(self):\n",
    "        print(self.firstname)\n",
    "\n",
    "\n",
    "x = Bear(\"Yogi\", \"Grizzly\", 3)\n",
    "x.printname()"
   ]
  },
  {
   "cell_type": "markdown",
   "metadata": {},
   "source": [
    "# Recall inheritance from lecture\n",
    "\n",
    "### But let's say a baby bear also has a new attribute at initialization: age."
   ]
  },
  {
   "cell_type": "code",
   "execution_count": 2,
   "metadata": {},
   "outputs": [],
   "source": [
    "class BabyBear(Bear):\n",
    "    def __init__(self, age, *args, **kwargs):\n",
    "        # Initialize the parent\n",
    "        super().__init__(*args, **kwargs)\n",
    "        self.age = age"
   ]
  },
  {
   "cell_type": "code",
   "execution_count": null,
   "metadata": {},
   "outputs": [],
   "source": [
    "y = BabyBear(2, \"LittleFoot\", \"Black\", 3)\n",
    "y.printname()\n",
    "print(y.age)"
   ]
  },
  {
   "cell_type": "markdown",
   "metadata": {},
   "source": [
    "### What if age is not set, but is computed as a function of hibernation length?\n",
    "\n",
    "\n",
    "- We can use a python @property decorator\n",
    "- This allows a method to be called like an attribute."
   ]
  },
  {
   "cell_type": "code",
   "execution_count": null,
   "metadata": {},
   "outputs": [],
   "source": [
    "class BabyBear(Bear):\n",
    "\n",
    "    @property\n",
    "    def age(self):\n",
    "        assert(self.kind in [\"Black\", \"Grizzly\", \"Polar\"])\n",
    "        if self.kind.lower() == \"black\":\n",
    "            denominator = 6\n",
    "        elif self.kind.lower() == \"grizzly\":\n",
    "            denominator = 5\n",
    "        if self.kind.lower() == \"polar\":\n",
    "            denominator = 4\n",
    "\n",
    "        return self.hibernationlength ** 2 / denominator"
   ]
  },
  {
   "cell_type": "code",
   "execution_count": null,
   "metadata": {},
   "outputs": [],
   "source": [
    "y = BabyBear('LittleFoot','Black', 3)\n",
    "y.printname()\n",
    "print(y.age)"
   ]
  },
  {
   "cell_type": "markdown",
   "metadata": {},
   "source": [
    "# What if we don't want to compute age every time the method is called?\n",
    "\n",
    "### Memoize!"
   ]
  },
  {
   "cell_type": "code",
   "execution_count": null,
   "metadata": {},
   "outputs": [],
   "source": [
    "class BabyBear(Bear):\n",
    "    def __init__(self, *args, **kwargs):\n",
    "        # Initialize the parent\n",
    "        super().__init__(*args, **kwargs)\n",
    "        # _ in python implies this should be treated as a private attribute.\n",
    "        self._age = None\n",
    "\n",
    "    @property\n",
    "    def age(self):\n",
    "        if self._age is None:\n",
    "            print(\"Computing age!\")\n",
    "            assert(self.kind in [\"Black\", \"Grizzly\", \"Polar\"])\n",
    "            if self.kind.lower() == \"black\":\n",
    "                denominator = 6\n",
    "            elif self.kind.lower() == \"grizzly\":\n",
    "                denominator = 5\n",
    "            if self.kind.lower() == \"polar\":\n",
    "                denominator = 4\n",
    "            self._age = self.hibernationlength ** 2 / denominator\n",
    "\n",
    "        return self._age"
   ]
  },
  {
   "cell_type": "code",
   "execution_count": null,
   "metadata": {},
   "outputs": [],
   "source": [
    "y = BabyBear(\"LittleFoot\", \"Black\", 3)\n",
    "y.printname()\n",
    "print(y.age)"
   ]
  },
  {
   "cell_type": "code",
   "execution_count": null,
   "metadata": {},
   "outputs": [],
   "source": [
    "print(y.age)"
   ]
  },
  {
   "cell_type": "markdown",
   "metadata": {},
   "source": [
    "### Note that if we want to be able to set a new kind or hibernationlength for a BabyBear, our memoization trick would break\n",
    "- This would require either making it impossible to update those attributes after initialization\n",
    "- Or we would need to detect when one was update and set age back to None\n",
    "- For our example, that extra work is not really worth saving 1/10th of a second in runtime..."
   ]
  },
  {
   "cell_type": "markdown",
   "metadata": {},
   "source": [
    "# Classmethods\n",
    "\n",
    "### Consider a method that we want universally from the Bear namespace, but that we don't want to need to require initializing a bear for."
   ]
  },
  {
   "cell_type": "code",
   "execution_count": null,
   "metadata": {},
   "outputs": [],
   "source": [
    "class Bear:\n",
    "    def __init__(self, name, kind, hibernationlength):\n",
    "        self.firstname = name\n",
    "        self.kind = kind\n",
    "        self.hibernationlength = hibernationlength\n",
    "\n",
    "    @classmethod\n",
    "    def roar(cls):\n",
    "        # Notice self is NOT an argument to the method. Instead, we want\n",
    "        # a variable that accepts the (uninstantiated) class itself.\n",
    "        # By convention, we call it cls.\n",
    "        print(\"Rooaaaar!\")\n",
    "\n",
    "    def printname(self):\n",
    "        print(self.firstname)\n",
    "\n",
    "#Use the Bear class to create an object, and then execute the printname method:\n",
    "\n",
    "Bear.roar()"
   ]
  },
  {
   "cell_type": "markdown",
   "metadata": {},
   "source": [
    "### Ok, Bear.roar() might not be that useful\n",
    "\n",
    "What if we know that we only have 5 possible bears, and we already know them by name. Then we could instantiate bears with thei kind and hibernation length from their name."
   ]
  },
  {
   "cell_type": "code",
   "execution_count": null,
   "metadata": {},
   "outputs": [],
   "source": [
    "class Bear:\n",
    "    def __init__(self, name, kind, hibernationlength):\n",
    "        self.firstname = name\n",
    "        self.kind = kind\n",
    "        self.hibernationlength = hibernationlength\n",
    "\n",
    "    @classmethod\n",
    "    def roar(cls):\n",
    "        # Notice self is NOT an argument to the method. Instead, we want\n",
    "        # a variable that accepts the (uninstantiated) class itself.\n",
    "        # By convention, we call it cls.\n",
    "        print(\"Rooaaaar!\")\n",
    "\n",
    "    @classmethod\n",
    "    def from_name(cls, name):\n",
    "        # Use a dictionary as a sort of argument factory.\n",
    "        # Here we can pass the name as a key, and get back \n",
    "        # the arguments for instantiating an object.\n",
    "        name2class = {\n",
    "            \"LittleFoot\": [name, \"Black\", 3],\n",
    "            \"Yogi\": [name, \"Grizzly\", 3],\n",
    "            \"Brenda\": [name, \"Polar\", 17],\n",
    "            \"Pooh\": [name, \"Grizzly\", 8],\n",
    "            \"Freddy\": [name, \"Black\", 1],\n",
    "        }\n",
    "\n",
    "        # Notice we can use * to pass the list along as positional arguments\n",
    "        return cls(*name2class[name])\n",
    "\n",
    "    def printname(self):\n",
    "        print(self.firstname)\n",
    "\n",
    "\n",
    "y = Bear.from_name(\"Freddy\")\n",
    "y.printname()\n",
    "(y.kind, y.hibernationlength)"
   ]
  }
 ],
 "metadata": {
  "kernelspec": {
   "display_name": "Python 3 (ipykernel)",
   "language": "python",
   "name": "python3"
  },
  "language_info": {
   "codemirror_mode": {
    "name": "ipython",
    "version": 3
   },
   "file_extension": ".py",
   "mimetype": "text/x-python",
   "name": "python",
   "nbconvert_exporter": "python",
   "pygments_lexer": "ipython3",
   "version": "3.9.7"
  },
  "vscode": {
   "interpreter": {
    "hash": "31f2aee4e71d21fbe5cf8b01ff0e069b9275f58929596ceb00d14d90e3e16cd6"
   }
  }
 },
 "nbformat": 4,
 "nbformat_minor": 2
}
