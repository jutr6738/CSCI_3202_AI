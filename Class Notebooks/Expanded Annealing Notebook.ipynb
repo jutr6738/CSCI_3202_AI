{
 "cells": [
  {
   "cell_type": "markdown",
   "metadata": {},
   "source": [
    "# CSCI 3202, Spring 2023\n",
    "\n",
    "\n",
    "# Simulated Annealing Notebook"
   ]
  },
  {
   "cell_type": "markdown",
   "metadata": {},
   "source": [
    "Before we begin, let's load a few packages that we might find useful."
   ]
  },
  {
   "cell_type": "code",
   "execution_count": 1,
   "metadata": {},
   "outputs": [],
   "source": [
    "import numpy as np\n",
    "import matplotlib.pyplot as plt\n",
    "import scipy.stats as stats"
   ]
  },
  {
   "cell_type": "markdown",
   "metadata": {},
   "source": [
    "<br>\n",
    "\n",
    "---\n",
    "\n",
    "<br>\n",
    "\n",
    "\n",
    "## Problem 1: Simulated annealing\n",
    "\n",
    "\n",
    "\n",
    "### (1a) \n",
    "\n",
    "First, we need to either create a new class for a simulated annealing `problem`, or sub-class our `problem` class from earlier. That shouldn't be too bad - the main difference is that instead of the best move at any given point, we need to select a random one.\n",
    "\n",
    "In addition to the `objective_function` argument during construction, we also ought to include the `schedule_function` for the temperature updates as time goes on (which moderate how likely we are to take sub-optimal steps). (We will define that one next!)"
   ]
  },
  {
   "cell_type": "code",
   "execution_count": 2,
   "metadata": {},
   "outputs": [],
   "source": [
    "class state:\n",
    "\n",
    "    def __init__(self, node, value):\n",
    "        self.node = node\n",
    "        self.value = value "
   ]
  },
  {
   "cell_type": "code",
   "execution_count": 3,
   "metadata": {},
   "outputs": [],
   "source": [
    "class problem:\n",
    "    \n",
    "    def __init__(self, initial, objective_function, stepsize):\n",
    "        self.initial_state = initial\n",
    "        self.current_state = initial\n",
    "        self.objective_function = objective_function\n",
    "        self.stepsize = stepsize\n",
    "        \n",
    "    def moves(self): ##returns moves to left and right of current state\n",
    "        '''return all possible moves to make from the current_state'''\n",
    "        all_moves = []\n",
    "        # could move right...\n",
    "        all_moves.append(self.current_state.node + self.stepsize)\n",
    "        # ... or left!\n",
    "        all_moves.append(self.current_state.node - self.stepsize)\n",
    "        return all_moves"
   ]
  },
  {
   "cell_type": "code",
   "execution_count": 4,
   "metadata": {},
   "outputs": [],
   "source": [
    "class problem_anneal(problem):\n",
    "#    def __init__(self, initial, objective_function, stepsize):\n",
    "\n",
    "    def __init__(self, initial, objective_function, schedule_function, stepsize):\n",
    "        problem.__init__(self, initial, objective_function, stepsize)\n",
    "        self.schedule_function = schedule_function\n",
    "\n",
    "    def random_move(self): ##randomly choose left or right move \n",
    "        '''return a random move, possible from the current_state'''\n",
    "        all_moves = self.moves()\n",
    "        next_move = np.random.choice(all_moves)\n",
    "        return next_move, self.objective_function(next_move)"
   ]
  },
  {
   "cell_type": "code",
   "execution_count": 5,
   "metadata": {},
   "outputs": [],
   "source": [
    "# JED\n",
    "#\n",
    "# Expanded look at functions\n",
    "\n",
    "# First, we define an objective function.  We use a very easy to \n",
    "# optimize version.  We make it negative so we can minimize it\n",
    "\n",
    "def gaussian_objective(state):\n",
    "    return -stats.norm.pdf(x=state, loc=5, scale=2)\n",
    "\n",
    "#\n",
    "# problem_anneal() wants a schedule function\n",
    "\n",
    "# Next, we create a problem\n",
    "\n",
    "initial=state(1.0,gaussian_objective(1.0))\n",
    "test=problem(initial,gaussian_objective,0.05)\n",
    "\n",
    "# Print the variables in problem"
   ]
  },
  {
   "cell_type": "code",
   "execution_count": 6,
   "metadata": {},
   "outputs": [
    {
     "data": {
      "text/plain": [
       "{'initial_state': <__main__.state at 0x196cd2ef430>,\n",
       " 'current_state': <__main__.state at 0x196cd2ef430>,\n",
       " 'objective_function': <function __main__.gaussian_objective(state)>,\n",
       " 'stepsize': 0.05}"
      ]
     },
     "execution_count": 6,
     "metadata": {},
     "output_type": "execute_result"
    }
   ],
   "source": [
    "# JED\n",
    "test.__dict__"
   ]
  },
  {
   "cell_type": "code",
   "execution_count": 7,
   "metadata": {},
   "outputs": [
    {
     "data": {
      "text/plain": [
       "[1.05, 0.95]"
      ]
     },
     "execution_count": 7,
     "metadata": {},
     "output_type": "execute_result"
    }
   ],
   "source": [
    "# JED\n",
    "test.moves()"
   ]
  },
  {
   "cell_type": "markdown",
   "metadata": {},
   "source": [
    "**Note** that here I've sub-classed `problem`. In general, it might make more sense to just add more methods to a generic problem class."
   ]
  },
  {
   "cell_type": "markdown",
   "metadata": {},
   "source": [
    "\n",
    "### (1b)  Find a temperature schedule\n",
    "\n",
    "Now, we need to actually write our code for the simulated annealing algorithm.  That's a bit more involved than the hill-climbing.\n",
    "\n",
    "The trickiest part is deciding the form for (1) the temperature/time schedule $T(t)$ ($T$ is temperature, $t$ is time), and (2) the accept/reject probability as a function of temperature and the difference in model performance between our current and proposed moves, $\\Delta E$.\n",
    "\n",
    "First, let's play around with the **temperature schedule**.  A typical choice might look like:\n",
    "\n",
    "$$T(t) = \\dfrac{C}{(t+1)^p}$$\n",
    "\n",
    "where $C$ and $p$ are some constants you can tune. The +1 in the denominator is to avoid divide-by-0 situations. \n",
    "\n",
    "Now a typical choice for the probability of accepting a move, based on (delta E is change in energy) $\\Delta E = f(\\text{current state}) - f(\\text{proposed state})$ (where $f$ is the objective function that we want to *minimize* here) is: \n",
    "\n",
    "$$p_{accept} = \\exp{\\left(\\dfrac{\\Delta E}{T(t)}\\right)}$$ probability of accepting move (this is a common function to calculate that)\n",
    "\n",
    "Note that:\n",
    "1. if we wanted instead to *maximize* $f$, we just need to throw a $-$ sign in front of $\\Delta E$, and\n",
    "2. if we find that $f(\\text{proposed state}) < f(\\text{current state})$, then $\\Delta E > 0$ and we should accept the move with $p_{accept} = 1$.\n",
    "\n",
    "That form for $p_{accept}$ is based loosely off of Newton's Law of Cooling and good old-fashioned thermodynamics.  Say what you will about Newton ([he was a jerk](https://jencyclopedic.wordpress.com/2014/04/02/isaac-newton-was-a-dick/)), but his law of cooling is pretty nice.\n",
    "\n",
    "See if you can choose $C$ and $p$ such that the acceptance probability $p_{accept}$ starts near 1 and decreases smoothly to somewhere around 20% for $t$ ranging from 0 to 1,000.\n",
    "For these preliminary tests, let's just assume that $\\Delta E$ is constant at $\\Delta E = -0.2$."
   ]
  },
  {
   "cell_type": "code",
   "execution_count": 8,
   "metadata": {},
   "outputs": [
    {
     "data": {
      "image/png": "[encoded data removed]",
      "text/plain": [
       "<Figure size 432x288 with 1 Axes>"
      ]
     },
     "metadata": {
      "needs_background": "light"
     },
     "output_type": "display_data"
    }
   ],
   "source": [
    "time = list(range(1000))\n",
    "temperature = [20/(tt+1)**.7 for tt in time] ##caluclate temps at all the 1000 \"times\" (iterations)\n",
    "paccept = [np.exp(-0.2/temp) for temp in temperature] ##calculate all the probabilities at all the temperatures \n",
    "\n",
    "plt.plot(time, paccept)\n",
    "plt.ylim([0,1])\n",
    "plt.show()\n",
    "\n",
    "##note closer to 1000 iteration, the probability of accepting it is close to zero\n",
    "###aka the more iterations we do, the probability of accepting a worse neighbor decreases"
   ]
  },
  {
   "cell_type": "markdown",
   "metadata": {},
   "source": [
    "Armed with these choices for $C$ and $p$, we can define a `schedule(time)` function for $T(t)$:"
   ]
  },
  {
   "cell_type": "code",
   "execution_count": 9,
   "metadata": {},
   "outputs": [],
   "source": [
    "def schedule(time):\n",
    "    '''some sort of mapping from time to temperature, to represent how we should be \n",
    "    \"cooling off\" - that is, accepting wacky solutions with lower and lower probability'''\n",
    "    C = 20#\n",
    "    p = 0.7#\n",
    "    temperature = C/(time+1)**p\n",
    "    \n",
    "    return temperature"
   ]
  },
  {
   "cell_type": "code",
   "execution_count": 10,
   "metadata": {},
   "outputs": [
    {
     "data": {
      "text/plain": [
       "{'initial_state': <__main__.state at 0x196cd2ef430>,\n",
       " 'current_state': <__main__.state at 0x196cd2ef430>,\n",
       " 'objective_function': <function __main__.gaussian_objective(state)>,\n",
       " 'stepsize': 0.05,\n",
       " 'schedule_function': <function __main__.schedule(time)>}"
      ]
     },
     "execution_count": 10,
     "metadata": {},
     "output_type": "execute_result"
    }
   ],
   "source": [
    "# JED\n",
    "test_problem=problem_anneal(initial=initial,objective_function=gaussian_objective,\n",
    "                            schedule_function=schedule,stepsize=0.05)\n",
    "\n",
    "test_problem.__dict__"
   ]
  },
  {
   "cell_type": "code",
   "execution_count": 11,
   "metadata": {},
   "outputs": [
    {
     "name": "stdout",
     "output_type": "stream",
     "text": [
      "[1.05, 0.95]\n"
     ]
    },
    {
     "data": {
      "text/plain": [
       "[-0.02837070404991201, -0.025670874600384728]"
      ]
     },
     "execution_count": 11,
     "metadata": {},
     "output_type": "execute_result"
    }
   ],
   "source": [
    "# JED\n",
    "print(test_problem.moves())\n",
    "[gaussian_objective(test_problem.moves()[i]) for i in range(len(test_problem.moves()))]"
   ]
  },
  {
   "cell_type": "code",
   "execution_count": 12,
   "metadata": {},
   "outputs": [
    {
     "data": {
      "text/plain": [
       "(1.05, -0.02837070404991201)"
      ]
     },
     "execution_count": 12,
     "metadata": {},
     "output_type": "execute_result"
    }
   ],
   "source": [
    "# JED\n",
    "test_problem.random_move()"
   ]
  },
  {
   "cell_type": "markdown",
   "metadata": {},
   "source": [
    "\n",
    "### (1c)  Define our simulated annealing algorithm\n",
    "\n",
    "Now that we have a temperature updating `schedule`, which defines how we accept/reject proposed moves for our simulated annealing algorithm, we can actually turn our pseudocode into real code!\n",
    "\n",
    "Let's write a `simulated_annealing` algorithm. Similar to the `hill_climbing` one above, we should take as arguments only the `problem` statement and maybe one other argument for the number of iterations to run the algorithm."
   ]
  },
  {
   "cell_type": "code",
   "execution_count": 13,
   "metadata": {},
   "outputs": [],
   "source": [
    "def simulated_annealing(problem, n_iter):\n",
    "    \n",
    "    current = problem.initial_state\n",
    "    \n",
    "    for t in range(n_iter):#for all iterations/\"times\"\n",
    "        temperature = problem.schedule_function(t) #calculate the temperature there \n",
    "        nextMove,nextValue = problem.random_move() #randomly pick a next move just one\n",
    "        #note we dont look at both left and right, we just randomly pick left or right \n",
    "        delta_obj = current.value - nextValue\n",
    "        \n",
    "        if delta_obj > 0: #if the new move is better than current move aka new move is less than current \n",
    "            problem.current_state.node, problem.current_state.value = nextMove,nextValue\n",
    "            \n",
    "        else:\n",
    "            p_accept = np.exp(delta_obj/temperature) #calculate probability of accepting \n",
    "            \n",
    "            accept = np.random.choice([True,False],p=[p_accept,1-p_accept]) #randomly decide to accept based on probability \n",
    "            \n",
    "            if accept:\n",
    "                problem.current_state.node, problem.current_state.value = nextMove,nextValue\n",
    "                \n",
    "                \n",
    "    return problem.current_state"
   ]
  },
  {
   "cell_type": "markdown",
   "metadata": {},
   "source": [
    "\n",
    "### (1d) Let's solve that problem from class!\n",
    "\n",
    "\n",
    "You know that plot in class of an example objective function we wanted to use simulated annealing to minimize?\n",
    "\n",
    "Well...  it's just the `several_gaussian_objective` from **the Hill-Climbing Notebook** but ***upside-down!!!***\n",
    "\n",
    "(You should feel free to rename this function...)"
   ]
  },
  {
   "cell_type": "code",
   "execution_count": 14,
   "metadata": {},
   "outputs": [
    {
     "data": {
      "image/png": "[encoded data removed]",
      "text/plain": [
       "<Figure size 432x288 with 1 Axes>"
      ]
     },
     "metadata": {
      "needs_background": "light"
     },
     "output_type": "display_data"
    }
   ],
   "source": [
    "def not_such_a_mystery_anymore_objective(state):\n",
    "    locs = [0,2.1,4,4,8] # centers of a bunch of normal distributions\n",
    "    objective_value = 0\n",
    "    # objective function is actually just the sum of a bunch of normal pdfs\n",
    "    for loc in locs:\n",
    "        objective_value += stats.norm.pdf(state, loc=loc, scale=1)\n",
    "    return 1-objective_value\n",
    "\n",
    "x = np.arange(start=-5, stop=15, step=0.1)\n",
    "fx = [not_such_a_mystery_anymore_objective(xk) for xk in x]\n",
    "\n",
    "plt.plot(x, fx, c='coral', lw=2)\n",
    "plt.show()"
   ]
  },
  {
   "cell_type": "markdown",
   "metadata": {},
   "source": [
    "Now we're ready to use our simulated annealing algorithm to solve this problem!\n",
    "1. Define an `initial_state` and declare a relevant `problem`\n",
    "2. Feed these into your simulated annealing algorithm to attempt to find the global minimum\n",
    "\n",
    "If you're having trouble hitting the global minimum, try playing around with different values for:\n",
    "* stepsize (taking tiny steps makes it harder to get out of a local minimum)\n",
    "* schedule (mapping from time to temperature - if you lower the temperature slowly enough, the algorithm *will* find the global minimum with probability approaching 1)\n",
    "* start with initial `state` that you know should lead into the global minimum. Once you are happy that you can reliably optimize starting from there, move away and see how you need to modify the stepsize and/or temperature schedule to keep making it to the minimum.\n",
    "* try using a **random restart** range of initial states, similarly to how we tackled this problem (upside-down) using hill-climbing, and plotting a histogram of the ensemble results"
   ]
  },
  {
   "cell_type": "code",
   "execution_count": 15,
   "metadata": {},
   "outputs": [
    {
     "name": "stdout",
     "output_type": "stream",
     "text": [
      "2.1000000000000014 0.42584248305302297\n"
     ]
    }
   ],
   "source": [
    "initial = 9 #right near a local minimum\n",
    "initial_state = state(node=initial, value=not_such_a_mystery_anymore_objective(initial))\n",
    "problem_from_class = problem_anneal(initial=initial_state, objective_function=not_such_a_mystery_anymore_objective, \n",
    "                        schedule_function=schedule, stepsize=0.3)\n",
    "\n",
    "out = simulated_annealing(problem_from_class, n_iter=10**3)\n",
    "\n",
    "print(out.node, out.value) #ending x, ending min"
   ]
  },
  {
   "cell_type": "code",
   "execution_count": 16,
   "metadata": {},
   "outputs": [
    {
     "data": {
      "image/png": "[encoded data removed]",
      "text/plain": [
       "<Figure size 432x288 with 1 Axes>"
      ]
     },
     "metadata": {
      "needs_background": "light"
     },
     "output_type": "display_data"
    }
   ],
   "source": [
    "initial = np.arange(start=0, stop=10.5, step=0.5)\n",
    "out = []\n",
    "min_val = []\n",
    "for init in initial:\n",
    "    initial_state = state(node=init, value=not_such_a_mystery_anymore_objective(init))\n",
    "    problem_from_class = problem_anneal(initial=initial_state, objective_function=not_such_a_mystery_anymore_objective, \n",
    "                            schedule_function=schedule, stepsize=0.2)\n",
    "    out.append(simulated_annealing(problem_from_class, n_iter=10**3).node)\n",
    "    min_val.append(simulated_annealing(problem_from_class, n_iter=10**3).value)\n",
    "plt.hist(out)\n",
    "plt.xlabel('Estimate of global minimum')\n",
    "plt.ylabel('Frequency')\n",
    "plt.show()\n",
    "\n",
    "#what it thinks the globabl min is based on different starting values bw 0-10.5"
   ]
  },
  {
   "cell_type": "code",
   "execution_count": 25,
   "metadata": {},
   "outputs": [],
   "source": [
    "minimum = np.min(min_val)"
   ]
  },
  {
   "cell_type": "code",
   "execution_count": 26,
   "metadata": {},
   "outputs": [
    {
     "data": {
      "text/plain": [
       "0.12351464467865314"
      ]
     },
     "execution_count": 26,
     "metadata": {},
     "output_type": "execute_result"
    }
   ],
   "source": [
    "minimum"
   ]
  },
  {
   "cell_type": "code",
   "execution_count": 23,
   "metadata": {},
   "outputs": [
    {
     "data": {
      "text/plain": [
       "(0.12351464467865314, 3.7999999999999687)"
      ]
     },
     "execution_count": 23,
     "metadata": {},
     "output_type": "execute_result"
    }
   ],
   "source": [
    "# True minimum of the given function\n",
    "min(zip(fx, x))"
   ]
  },
  {
   "cell_type": "code",
   "execution_count": null,
   "metadata": {},
   "outputs": [],
   "source": []
  },
  {
   "cell_type": "code",
   "execution_count": null,
   "metadata": {},
   "outputs": [],
   "source": []
  }
 ],
 "metadata": {
  "kernelspec": {
   "display_name": "Python 3 (ipykernel)",
   "language": "python",
   "name": "python3"
  },
  "language_info": {
   "codemirror_mode": {
    "name": "ipython",
    "version": 3
   },
   "file_extension": ".py",
   "mimetype": "text/x-python",
   "name": "python",
   "nbconvert_exporter": "python",
   "pygments_lexer": "ipython3",
   "version": "3.9.7"
  }
 },
 "nbformat": 4,
 "nbformat_minor": 4
}
